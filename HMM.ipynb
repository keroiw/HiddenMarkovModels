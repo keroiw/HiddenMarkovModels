{
 "cells": [
  {
   "cell_type": "code",
   "execution_count": 31,
   "metadata": {},
   "outputs": [],
   "source": [
    "import math\n",
    "import matplotlib.pyplot as plt\n",
    "import numpy as np\n",
    "import os\n",
    "import pandas as pd\n",
    "import seaborn as sns\n",
    "import sklearn\n",
    "\n",
    "\n",
    "from collections import OrderedDict\n",
    "from hmmlearn import hmm"
   ]
  },
  {
   "cell_type": "code",
   "execution_count": 2,
   "metadata": {},
   "outputs": [],
   "source": [
    "devices_dataset = pd.read_csv(\"house_devices.csv\")"
   ]
  },
  {
   "cell_type": "code",
   "execution_count": 3,
   "metadata": {},
   "outputs": [
    {
     "data": {
      "text/html": [
       "<div>\n",
       "<style scoped>\n",
       "    .dataframe tbody tr th:only-of-type {\n",
       "        vertical-align: middle;\n",
       "    }\n",
       "\n",
       "    .dataframe tbody tr th {\n",
       "        vertical-align: top;\n",
       "    }\n",
       "\n",
       "    .dataframe thead th {\n",
       "        text-align: right;\n",
       "    }\n",
       "</style>\n",
       "<table border=\"1\" class=\"dataframe\">\n",
       "  <thead>\n",
       "    <tr style=\"text-align: right;\">\n",
       "      <th></th>\n",
       "      <th>time</th>\n",
       "      <th>lighting2</th>\n",
       "      <th>lighting5</th>\n",
       "      <th>lighting4</th>\n",
       "      <th>refrigerator</th>\n",
       "      <th>microwave</th>\n",
       "    </tr>\n",
       "  </thead>\n",
       "  <tbody>\n",
       "    <tr>\n",
       "      <th>0</th>\n",
       "      <td>1302930703</td>\n",
       "      <td>180</td>\n",
       "      <td>23</td>\n",
       "      <td>195</td>\n",
       "      <td>117</td>\n",
       "      <td>2</td>\n",
       "    </tr>\n",
       "    <tr>\n",
       "      <th>1</th>\n",
       "      <td>1302930721</td>\n",
       "      <td>181</td>\n",
       "      <td>23</td>\n",
       "      <td>195</td>\n",
       "      <td>119</td>\n",
       "      <td>2</td>\n",
       "    </tr>\n",
       "    <tr>\n",
       "      <th>2</th>\n",
       "      <td>1302930738</td>\n",
       "      <td>180</td>\n",
       "      <td>23</td>\n",
       "      <td>195</td>\n",
       "      <td>117</td>\n",
       "      <td>2</td>\n",
       "    </tr>\n",
       "    <tr>\n",
       "      <th>3</th>\n",
       "      <td>1302930765</td>\n",
       "      <td>181</td>\n",
       "      <td>23</td>\n",
       "      <td>195</td>\n",
       "      <td>117</td>\n",
       "      <td>2</td>\n",
       "    </tr>\n",
       "    <tr>\n",
       "      <th>4</th>\n",
       "      <td>1302930782</td>\n",
       "      <td>180</td>\n",
       "      <td>23</td>\n",
       "      <td>195</td>\n",
       "      <td>118</td>\n",
       "      <td>2</td>\n",
       "    </tr>\n",
       "  </tbody>\n",
       "</table>\n",
       "</div>"
      ],
      "text/plain": [
       "         time  lighting2  lighting5  lighting4  refrigerator  microwave\n",
       "0  1302930703        180         23        195           117          2\n",
       "1  1302930721        181         23        195           119          2\n",
       "2  1302930738        180         23        195           117          2\n",
       "3  1302930765        181         23        195           117          2\n",
       "4  1302930782        180         23        195           118          2"
      ]
     },
     "execution_count": 3,
     "metadata": {},
     "output_type": "execute_result"
    }
   ],
   "source": [
    "devices_dataset.head()"
   ]
  },
  {
   "cell_type": "code",
   "execution_count": 4,
   "metadata": {},
   "outputs": [
    {
     "data": {
      "text/plain": [
       "(14999, 6)"
      ]
     },
     "execution_count": 4,
     "metadata": {},
     "output_type": "execute_result"
    }
   ],
   "source": [
    "devices_dataset.shape"
   ]
  },
  {
   "cell_type": "code",
   "execution_count": 5,
   "metadata": {},
   "outputs": [
    {
     "data": {
      "text/html": [
       "<div>\n",
       "<style scoped>\n",
       "    .dataframe tbody tr th:only-of-type {\n",
       "        vertical-align: middle;\n",
       "    }\n",
       "\n",
       "    .dataframe tbody tr th {\n",
       "        vertical-align: top;\n",
       "    }\n",
       "\n",
       "    .dataframe thead th {\n",
       "        text-align: right;\n",
       "    }\n",
       "</style>\n",
       "<table border=\"1\" class=\"dataframe\">\n",
       "  <thead>\n",
       "    <tr style=\"text-align: right;\">\n",
       "      <th></th>\n",
       "      <th>time</th>\n",
       "      <th>lighting2</th>\n",
       "      <th>lighting5</th>\n",
       "      <th>lighting4</th>\n",
       "      <th>refrigerator</th>\n",
       "      <th>microwave</th>\n",
       "    </tr>\n",
       "  </thead>\n",
       "  <tbody>\n",
       "    <tr>\n",
       "      <th>count</th>\n",
       "      <td>1.499900e+04</td>\n",
       "      <td>14999.000000</td>\n",
       "      <td>14999.000000</td>\n",
       "      <td>14999.000000</td>\n",
       "      <td>14999.000000</td>\n",
       "      <td>14999.000000</td>\n",
       "    </tr>\n",
       "    <tr>\n",
       "      <th>mean</th>\n",
       "      <td>1.303161e+09</td>\n",
       "      <td>46.444630</td>\n",
       "      <td>17.852990</td>\n",
       "      <td>45.995933</td>\n",
       "      <td>46.283086</td>\n",
       "      <td>6.710247</td>\n",
       "    </tr>\n",
       "    <tr>\n",
       "      <th>std</th>\n",
       "      <td>1.315710e+05</td>\n",
       "      <td>91.600463</td>\n",
       "      <td>45.832236</td>\n",
       "      <td>70.079602</td>\n",
       "      <td>66.730693</td>\n",
       "      <td>88.110723</td>\n",
       "    </tr>\n",
       "    <tr>\n",
       "      <th>min</th>\n",
       "      <td>1.302931e+09</td>\n",
       "      <td>0.000000</td>\n",
       "      <td>0.000000</td>\n",
       "      <td>0.000000</td>\n",
       "      <td>0.000000</td>\n",
       "      <td>0.000000</td>\n",
       "    </tr>\n",
       "    <tr>\n",
       "      <th>25%</th>\n",
       "      <td>1.303068e+09</td>\n",
       "      <td>0.000000</td>\n",
       "      <td>1.000000</td>\n",
       "      <td>0.000000</td>\n",
       "      <td>0.000000</td>\n",
       "      <td>2.000000</td>\n",
       "    </tr>\n",
       "    <tr>\n",
       "      <th>50%</th>\n",
       "      <td>1.303144e+09</td>\n",
       "      <td>0.000000</td>\n",
       "      <td>1.000000</td>\n",
       "      <td>0.000000</td>\n",
       "      <td>1.000000</td>\n",
       "      <td>2.000000</td>\n",
       "    </tr>\n",
       "    <tr>\n",
       "      <th>75%</th>\n",
       "      <td>1.303299e+09</td>\n",
       "      <td>22.000000</td>\n",
       "      <td>21.000000</td>\n",
       "      <td>63.000000</td>\n",
       "      <td>115.000000</td>\n",
       "      <td>2.000000</td>\n",
       "    </tr>\n",
       "    <tr>\n",
       "      <th>max</th>\n",
       "      <td>1.303371e+09</td>\n",
       "      <td>362.000000</td>\n",
       "      <td>211.000000</td>\n",
       "      <td>203.000000</td>\n",
       "      <td>916.000000</td>\n",
       "      <td>1798.000000</td>\n",
       "    </tr>\n",
       "  </tbody>\n",
       "</table>\n",
       "</div>"
      ],
      "text/plain": [
       "               time     lighting2     lighting5     lighting4  refrigerator  \\\n",
       "count  1.499900e+04  14999.000000  14999.000000  14999.000000  14999.000000   \n",
       "mean   1.303161e+09     46.444630     17.852990     45.995933     46.283086   \n",
       "std    1.315710e+05     91.600463     45.832236     70.079602     66.730693   \n",
       "min    1.302931e+09      0.000000      0.000000      0.000000      0.000000   \n",
       "25%    1.303068e+09      0.000000      1.000000      0.000000      0.000000   \n",
       "50%    1.303144e+09      0.000000      1.000000      0.000000      1.000000   \n",
       "75%    1.303299e+09     22.000000     21.000000     63.000000    115.000000   \n",
       "max    1.303371e+09    362.000000    211.000000    203.000000    916.000000   \n",
       "\n",
       "          microwave  \n",
       "count  14999.000000  \n",
       "mean       6.710247  \n",
       "std       88.110723  \n",
       "min        0.000000  \n",
       "25%        2.000000  \n",
       "50%        2.000000  \n",
       "75%        2.000000  \n",
       "max     1798.000000  "
      ]
     },
     "execution_count": 5,
     "metadata": {},
     "output_type": "execute_result"
    }
   ],
   "source": [
    "devices_dataset.describe()"
   ]
  },
  {
   "cell_type": "code",
   "execution_count": 6,
   "metadata": {},
   "outputs": [
    {
     "data": {
      "text/plain": [
       "time            14999\n",
       "lighting2          58\n",
       "lighting5          61\n",
       "lighting4          96\n",
       "refrigerator      109\n",
       "microwave          50\n",
       "dtype: int64"
      ]
     },
     "execution_count": 6,
     "metadata": {},
     "output_type": "execute_result"
    }
   ],
   "source": [
    "devices_dataset.nunique()"
   ]
  },
  {
   "cell_type": "markdown",
   "metadata": {},
   "source": [
    "## Learning process"
   ]
  },
  {
   "cell_type": "code",
   "execution_count": 16,
   "metadata": {},
   "outputs": [],
   "source": [
    "devices_names = devices_dataset.columns[1:]\n",
    "hidden_states = [i for i in range(4, 12) if i % 2 == 0]\n",
    "\n",
    "\n",
    "class ModelsContainer:\n",
    "    __slots__ = ['models', 'scores', 'states']\n",
    "\n",
    "    def __init__(self):\n",
    "        self.models = []\n",
    "        self.scores = []\n",
    "        self.states = []\n",
    "\n",
    "    def add_model(self, model, score, state):\n",
    "        self.models.append(model)\n",
    "        self.scores.append(score)\n",
    "        self.states.append(state)\n",
    "\n",
    "    def get_best_model(self):\n",
    "        max_score_idx = self.scores.index(max(self.scores))\n",
    "        return self.models[max_score_idx], self.scores[max_score_idx], self.states[max_score_idx]\n",
    "\n",
    "\n",
    "def train_test(dataset):\n",
    "    train_size = int(dataset.shape[0] * 0.8)\n",
    "    train_sample = np.random.choice(dataset.index, size=train_size)\n",
    "    train_set = dataset.loc[train_sample, :]\n",
    "    test_set_sample = dataset.index.difference(train_set.index)\n",
    "    test_set = dataset.loc[test_set_sample, :]\n",
    "\n",
    "    train_set = train_set.sort_values(by=\"time\")\n",
    "    test_set = test_set.sort_values(by=\"time\")\n",
    "    return train_set, test_set\n",
    "\n",
    "\n",
    "def extract_column(X_train, X_test, col_name):\n",
    "    return X_train[[col_name]], X_test[[col_name]]\n",
    "\n",
    "\n",
    "def select_hidden_state(X_train, X_test, hidden_states):\n",
    "    models_container = ModelsContainer()\n",
    "    for hs in hidden_states:\n",
    "        hmm_model = hmm.GaussianHMM(n_components=hs, n_iter=200)\n",
    "        hmm_model.fit(X_train)\n",
    "        model_score = hmm_model.score(X_test)\n",
    "        models_container.add_model(hmm_model, model_score, hs)\n",
    "    return models_container.get_best_model()\n",
    "\n",
    "\n",
    "def select_best_model(dataset, col_name, hidden_states, reps=3):\n",
    "    models_container = ModelsContainer()\n",
    "    for _ in range(reps):\n",
    "        X_train, X_test = train_test(dataset)\n",
    "        X_train, X_test = extract_column(X_train, X_test, col_name)\n",
    "        model, score, hs = select_hidden_state(X_train, X_test, hidden_states)\n",
    "        models_container.add_model(model, score, hs)\n",
    "    return models_container.get_best_model()"
   ]
  },
  {
   "cell_type": "code",
   "execution_count": 17,
   "metadata": {},
   "outputs": [],
   "source": [
    "collected_models = OrderedDict()\n",
    "for devices_cols in devices_dataset.columns[1:]:\n",
    "    collected_models[devices_cols] = select_best_model(devices_dataset, devices_cols, hidden_states)"
   ]
  },
  {
   "cell_type": "code",
   "execution_count": 18,
   "metadata": {},
   "outputs": [],
   "source": [
    "dev_len = len(devices_names)\n",
    "results_mtrx = np.zeros((dev_len, dev_len))\n",
    "X_train, X_test = train_test(devices_dataset)\n",
    "for i, (model_name, model_info) in enumerate(collected_models.items()):\n",
    "    model = model_info[0]\n",
    "    for j, dn in enumerate(devices_names):\n",
    "        _, X_test_col = extract_column(X_train, X_test, dn)\n",
    "        model_prediction = model.score(X_test_col[[dn]])\n",
    "        results_mtrx[j, i] = model_prediction"
   ]
  },
  {
   "cell_type": "code",
   "execution_count": 19,
   "metadata": {},
   "outputs": [],
   "source": [
    "result_df = pd.DataFrame(results_mtrx)\n",
    "result_df.columns = devices_names"
   ]
  },
  {
   "cell_type": "code",
   "execution_count": 20,
   "metadata": {},
   "outputs": [
    {
     "data": {
      "image/png": "[encoded data removed]",
      "text/plain": [
       "<Figure size 576x504 with 2 Axes>"
      ]
     },
     "metadata": {
      "needs_background": "light"
     },
     "output_type": "display_data"
    }
   ],
   "source": [
    "fig, ax = plt.subplots(figsize=(8,7))\n",
    "sns.heatmap(result_df.clip(lower=-40000),\n",
    "            center=0,\n",
    "            cmap=\"YlGnBu\",\n",
    "            yticklabels=devices_names,\n",
    "            ax=ax)\n",
    "ax.set_title('Ability to detect correct time series')\n",
    "ax.set_xticklabels(ax.get_xticklabels(), rotation=30)\n",
    "ax.set_yticklabels(ax.get_yticklabels(), rotation=30)\n",
    "ax.set_xlabel('True labels')\n",
    "ax.set_ylabel('Scored labels');"
   ]
  },
  {
   "cell_type": "code",
   "execution_count": 29,
   "metadata": {},
   "outputs": [
    {
     "data": {
      "text/html": [
       "<div>\n",
       "<style scoped>\n",
       "    .dataframe tbody tr th:only-of-type {\n",
       "        vertical-align: middle;\n",
       "    }\n",
       "\n",
       "    .dataframe tbody tr th {\n",
       "        vertical-align: top;\n",
       "    }\n",
       "\n",
       "    .dataframe thead th {\n",
       "        text-align: right;\n",
       "    }\n",
       "</style>\n",
       "<table border=\"1\" class=\"dataframe\">\n",
       "  <thead>\n",
       "    <tr style=\"text-align: right;\">\n",
       "      <th></th>\n",
       "      <th>Hidden States</th>\n",
       "    </tr>\n",
       "    <tr>\n",
       "      <th>Device</th>\n",
       "      <th></th>\n",
       "    </tr>\n",
       "  </thead>\n",
       "  <tbody>\n",
       "    <tr>\n",
       "      <th>lighting2</th>\n",
       "      <td>10</td>\n",
       "    </tr>\n",
       "    <tr>\n",
       "      <th>lighting5</th>\n",
       "      <td>8</td>\n",
       "    </tr>\n",
       "    <tr>\n",
       "      <th>lighting4</th>\n",
       "      <td>10</td>\n",
       "    </tr>\n",
       "    <tr>\n",
       "      <th>refrigerator</th>\n",
       "      <td>10</td>\n",
       "    </tr>\n",
       "    <tr>\n",
       "      <th>microwave</th>\n",
       "      <td>10</td>\n",
       "    </tr>\n",
       "  </tbody>\n",
       "</table>\n",
       "</div>"
      ],
      "text/plain": [
       "              Hidden States\n",
       "Device                     \n",
       "lighting2                10\n",
       "lighting5                 8\n",
       "lighting4                10\n",
       "refrigerator             10\n",
       "microwave                10"
      ]
     },
     "execution_count": 29,
     "metadata": {},
     "output_type": "execute_result"
    }
   ],
   "source": [
    "selected_params = [[model_name, model_info[2]] for model_name, model_info in collected_models.items()]\n",
    "selected_params = pd.DataFrame(selected_params)\n",
    "selected_params.columns = [\"Device\", \"Hidden States\"]\n",
    "selected_params.set_index(\"Device\")"
   ]
  },
  {
   "cell_type": "markdown",
   "metadata": {},
   "source": [
    "## Evaluation on training sets"
   ]
  },
  {
   "cell_type": "code",
   "execution_count": 88,
   "metadata": {},
   "outputs": [
    {
     "data": {
      "text/plain": [
       "['/home/wiorek/PycharmProjects/HMM/test_sets/dev1.csv',\n",
       " '/home/wiorek/PycharmProjects/HMM/test_sets/dev2.csv',\n",
       " '/home/wiorek/PycharmProjects/HMM/test_sets/dev3.csv',\n",
       " '/home/wiorek/PycharmProjects/HMM/test_sets/dev4.csv',\n",
       " '/home/wiorek/PycharmProjects/HMM/test_sets/dev5.csv',\n",
       " '/home/wiorek/PycharmProjects/HMM/test_sets/dev6.csv']"
      ]
     },
     "execution_count": 88,
     "metadata": {},
     "output_type": "execute_result"
    }
   ],
   "source": [
    "test_dir = os.path.join(os.getcwd(), \"test_sets\")\n",
    "test_sets_paths = [f for f in os.listdir(test_dir) if os.path.isfile(os.path.join(test_dir, f))]\n",
    "test_sets_paths = sorted([os.path.join(test_dir, f) for f in test_sets_paths])\n",
    "test_sets_paths"
   ]
  },
  {
   "cell_type": "code",
   "execution_count": 89,
   "metadata": {},
   "outputs": [],
   "source": [
    "true_labels = [\"ligthing2\", \"ligthing2\", \"refrigerator\", \"microwave\", \"lighting5\", \"lighting4\"]\n",
    "test_dfs = [pd.read_csv(f)[[\"dev\"]] for f in test_sets_paths]"
   ]
  },
  {
   "cell_type": "code",
   "execution_count": 90,
   "metadata": {},
   "outputs": [],
   "source": [
    "def evaluate_models(X):\n",
    "    score_records = dict()\n",
    "    for model_name, model_info in collected_models.items():\n",
    "        model = model_info[0]\n",
    "        model_score = model.score(X)\n",
    "        score_records[model_name] = [model_score]\n",
    "    return pd.DataFrame(score_records)\n",
    "\n",
    "evaluation_results = pd.concat([evaluate_models(X) for X in test_dfs]).round(3)\n",
    "evaluation_results[\"True labels\"] = true_labels\n",
    "evaluation_results.reset_index(inplace=True, drop=True)"
   ]
  },
  {
   "cell_type": "code",
   "execution_count": 92,
   "metadata": {},
   "outputs": [
    {
     "data": {
      "text/html": [
       "<style  type=\"text/css\" >\n",
       "    #T_659728c8_bca0_11ea_a6cb_28c2dd1ac7d1row0_col0 {\n",
       "            background-color:  yellow;\n",
       "        }    #T_659728c8_bca0_11ea_a6cb_28c2dd1ac7d1row1_col0 {\n",
       "            background-color:  yellow;\n",
       "        }    #T_659728c8_bca0_11ea_a6cb_28c2dd1ac7d1row2_col4 {\n",
       "            background-color:  yellow;\n",
       "        }    #T_659728c8_bca0_11ea_a6cb_28c2dd1ac7d1row3_col3 {\n",
       "            background-color:  yellow;\n",
       "        }    #T_659728c8_bca0_11ea_a6cb_28c2dd1ac7d1row4_col2 {\n",
       "            background-color:  yellow;\n",
       "        }    #T_659728c8_bca0_11ea_a6cb_28c2dd1ac7d1row5_col1 {\n",
       "            background-color:  yellow;\n",
       "        }</style><table id=\"T_659728c8_bca0_11ea_a6cb_28c2dd1ac7d1\" ><thead>    <tr>        <th class=\"blank level0\" ></th>        <th class=\"col_heading level0 col0\" >lighting2</th>        <th class=\"col_heading level0 col1\" >lighting4</th>        <th class=\"col_heading level0 col2\" >lighting5</th>        <th class=\"col_heading level0 col3\" >microwave</th>        <th class=\"col_heading level0 col4\" >refrigerator</th>        <th class=\"col_heading level0 col5\" >True labels</th>    </tr></thead><tbody>\n",
       "                <tr>\n",
       "                        <th id=\"T_659728c8_bca0_11ea_a6cb_28c2dd1ac7d1level0_row0\" class=\"row_heading level0 row0\" >0</th>\n",
       "                        <td id=\"T_659728c8_bca0_11ea_a6cb_28c2dd1ac7d1row0_col0\" class=\"data row0 col0\" >12375.9</td>\n",
       "                        <td id=\"T_659728c8_bca0_11ea_a6cb_28c2dd1ac7d1row0_col1\" class=\"data row0 col1\" >117.214</td>\n",
       "                        <td id=\"T_659728c8_bca0_11ea_a6cb_28c2dd1ac7d1row0_col2\" class=\"data row0 col2\" >-29680.3</td>\n",
       "                        <td id=\"T_659728c8_bca0_11ea_a6cb_28c2dd1ac7d1row0_col3\" class=\"data row0 col3\" >48.167</td>\n",
       "                        <td id=\"T_659728c8_bca0_11ea_a6cb_28c2dd1ac7d1row0_col4\" class=\"data row0 col4\" >-11373.5</td>\n",
       "                        <td id=\"T_659728c8_bca0_11ea_a6cb_28c2dd1ac7d1row0_col5\" class=\"data row0 col5\" >ligthing2</td>\n",
       "            </tr>\n",
       "            <tr>\n",
       "                        <th id=\"T_659728c8_bca0_11ea_a6cb_28c2dd1ac7d1level0_row1\" class=\"row_heading level0 row1\" >1</th>\n",
       "                        <td id=\"T_659728c8_bca0_11ea_a6cb_28c2dd1ac7d1row1_col0\" class=\"data row1 col0\" >1032.87</td>\n",
       "                        <td id=\"T_659728c8_bca0_11ea_a6cb_28c2dd1ac7d1row1_col1\" class=\"data row1 col1\" >-284654</td>\n",
       "                        <td id=\"T_659728c8_bca0_11ea_a6cb_28c2dd1ac7d1row1_col2\" class=\"data row1 col2\" >-238081</td>\n",
       "                        <td id=\"T_659728c8_bca0_11ea_a6cb_28c2dd1ac7d1row1_col3\" class=\"data row1 col3\" >-14874.5</td>\n",
       "                        <td id=\"T_659728c8_bca0_11ea_a6cb_28c2dd1ac7d1row1_col4\" class=\"data row1 col4\" >-29564.1</td>\n",
       "                        <td id=\"T_659728c8_bca0_11ea_a6cb_28c2dd1ac7d1row1_col5\" class=\"data row1 col5\" >ligthing2</td>\n",
       "            </tr>\n",
       "            <tr>\n",
       "                        <th id=\"T_659728c8_bca0_11ea_a6cb_28c2dd1ac7d1level0_row2\" class=\"row_heading level0 row2\" >2</th>\n",
       "                        <td id=\"T_659728c8_bca0_11ea_a6cb_28c2dd1ac7d1row2_col0\" class=\"data row2 col0\" >-229089</td>\n",
       "                        <td id=\"T_659728c8_bca0_11ea_a6cb_28c2dd1ac7d1row2_col1\" class=\"data row2 col1\" >-64546.6</td>\n",
       "                        <td id=\"T_659728c8_bca0_11ea_a6cb_28c2dd1ac7d1row2_col2\" class=\"data row2 col2\" >-169721</td>\n",
       "                        <td id=\"T_659728c8_bca0_11ea_a6cb_28c2dd1ac7d1row2_col3\" class=\"data row2 col3\" >-19469.9</td>\n",
       "                        <td id=\"T_659728c8_bca0_11ea_a6cb_28c2dd1ac7d1row2_col4\" class=\"data row2 col4\" >-15602.2</td>\n",
       "                        <td id=\"T_659728c8_bca0_11ea_a6cb_28c2dd1ac7d1row2_col5\" class=\"data row2 col5\" >refrigerator</td>\n",
       "            </tr>\n",
       "            <tr>\n",
       "                        <th id=\"T_659728c8_bca0_11ea_a6cb_28c2dd1ac7d1level0_row3\" class=\"row_heading level0 row3\" >3</th>\n",
       "                        <td id=\"T_659728c8_bca0_11ea_a6cb_28c2dd1ac7d1row3_col0\" class=\"data row3 col0\" >-419750</td>\n",
       "                        <td id=\"T_659728c8_bca0_11ea_a6cb_28c2dd1ac7d1row3_col1\" class=\"data row3 col1\" >-505508</td>\n",
       "                        <td id=\"T_659728c8_bca0_11ea_a6cb_28c2dd1ac7d1row3_col2\" class=\"data row3 col2\" >-847606</td>\n",
       "                        <td id=\"T_659728c8_bca0_11ea_a6cb_28c2dd1ac7d1row3_col3\" class=\"data row3 col3\" >46383.9</td>\n",
       "                        <td id=\"T_659728c8_bca0_11ea_a6cb_28c2dd1ac7d1row3_col4\" class=\"data row3 col4\" >-51790.9</td>\n",
       "                        <td id=\"T_659728c8_bca0_11ea_a6cb_28c2dd1ac7d1row3_col5\" class=\"data row3 col5\" >microwave</td>\n",
       "            </tr>\n",
       "            <tr>\n",
       "                        <th id=\"T_659728c8_bca0_11ea_a6cb_28c2dd1ac7d1level0_row4\" class=\"row_heading level0 row4\" >4</th>\n",
       "                        <td id=\"T_659728c8_bca0_11ea_a6cb_28c2dd1ac7d1row4_col0\" class=\"data row4 col0\" >-30020.6</td>\n",
       "                        <td id=\"T_659728c8_bca0_11ea_a6cb_28c2dd1ac7d1row4_col1\" class=\"data row4 col1\" >-19975.8</td>\n",
       "                        <td id=\"T_659728c8_bca0_11ea_a6cb_28c2dd1ac7d1row4_col2\" class=\"data row4 col2\" >17752.3</td>\n",
       "                        <td id=\"T_659728c8_bca0_11ea_a6cb_28c2dd1ac7d1row4_col3\" class=\"data row4 col3\" >4293.89</td>\n",
       "                        <td id=\"T_659728c8_bca0_11ea_a6cb_28c2dd1ac7d1row4_col4\" class=\"data row4 col4\" >-12168.2</td>\n",
       "                        <td id=\"T_659728c8_bca0_11ea_a6cb_28c2dd1ac7d1row4_col5\" class=\"data row4 col5\" >lighting5</td>\n",
       "            </tr>\n",
       "            <tr>\n",
       "                        <th id=\"T_659728c8_bca0_11ea_a6cb_28c2dd1ac7d1level0_row5\" class=\"row_heading level0 row5\" >5</th>\n",
       "                        <td id=\"T_659728c8_bca0_11ea_a6cb_28c2dd1ac7d1row5_col0\" class=\"data row5 col0\" >-38079.3</td>\n",
       "                        <td id=\"T_659728c8_bca0_11ea_a6cb_28c2dd1ac7d1row5_col1\" class=\"data row5 col1\" >4977.52</td>\n",
       "                        <td id=\"T_659728c8_bca0_11ea_a6cb_28c2dd1ac7d1row5_col2\" class=\"data row5 col2\" >-9292.6</td>\n",
       "                        <td id=\"T_659728c8_bca0_11ea_a6cb_28c2dd1ac7d1row5_col3\" class=\"data row5 col3\" >1510.67</td>\n",
       "                        <td id=\"T_659728c8_bca0_11ea_a6cb_28c2dd1ac7d1row5_col4\" class=\"data row5 col4\" >-13262.4</td>\n",
       "                        <td id=\"T_659728c8_bca0_11ea_a6cb_28c2dd1ac7d1row5_col5\" class=\"data row5 col5\" >lighting4</td>\n",
       "            </tr>\n",
       "    </tbody></table>"
      ],
      "text/plain": [
       "<pandas.io.formats.style.Styler at 0x7fab100d19e8>"
      ]
     },
     "execution_count": 92,
     "metadata": {},
     "output_type": "execute_result"
    }
   ],
   "source": [
    "def highlight_max(s):\n",
    "    is_max = s == s[: -1].max()\n",
    "    return ['background-color: yellow' if v else '' for v in is_max]\n",
    "\n",
    "evaluation_results.style.apply(highlight_max, axis=1)"
   ]
  }
 ],
 "metadata": {
  "kernelspec": {
   "display_name": "venv",
   "language": "python",
   "name": "venv"
  },
  "language_info": {
   "codemirror_mode": {
    "name": "ipython",
    "version": 3
   },
   "file_extension": ".py",
   "mimetype": "text/x-python",
   "name": "python",
   "nbconvert_exporter": "python",
   "pygments_lexer": "ipython3",
   "version": "3.5.2"
  }
 },
 "nbformat": 4,
 "nbformat_minor": 4
}
