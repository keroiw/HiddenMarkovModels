{
 "cells": [
  {
   "cell_type": "code",
   "execution_count": 34,
   "metadata": {},
   "outputs": [],
   "source": [
    "import pandas as pd\n",
    "import matplotlib as pyplot\n",
    "import numpy as np\n",
    "import sklearn\n",
    "import math\n",
    "\n",
    "from hmmlearn import hmm"
   ]
  },
  {
   "cell_type": "code",
   "execution_count": 2,
   "metadata": {},
   "outputs": [],
   "source": [
    "devices_dataset = pd.read_csv(\"house_devices.csv\")"
   ]
  },
  {
   "cell_type": "code",
   "execution_count": 3,
   "metadata": {},
   "outputs": [
    {
     "data": {
      "text/html": [
       "<div>\n",
       "<style scoped>\n",
       "    .dataframe tbody tr th:only-of-type {\n",
       "        vertical-align: middle;\n",
       "    }\n",
       "\n",
       "    .dataframe tbody tr th {\n",
       "        vertical-align: top;\n",
       "    }\n",
       "\n",
       "    .dataframe thead th {\n",
       "        text-align: right;\n",
       "    }\n",
       "</style>\n",
       "<table border=\"1\" class=\"dataframe\">\n",
       "  <thead>\n",
       "    <tr style=\"text-align: right;\">\n",
       "      <th></th>\n",
       "      <th>time</th>\n",
       "      <th>lighting2</th>\n",
       "      <th>lighting5</th>\n",
       "      <th>lighting4</th>\n",
       "      <th>refrigerator</th>\n",
       "      <th>microwave</th>\n",
       "    </tr>\n",
       "  </thead>\n",
       "  <tbody>\n",
       "    <tr>\n",
       "      <th>0</th>\n",
       "      <td>1302930703</td>\n",
       "      <td>180</td>\n",
       "      <td>23</td>\n",
       "      <td>195</td>\n",
       "      <td>117</td>\n",
       "      <td>2</td>\n",
       "    </tr>\n",
       "    <tr>\n",
       "      <th>1</th>\n",
       "      <td>1302930721</td>\n",
       "      <td>181</td>\n",
       "      <td>23</td>\n",
       "      <td>195</td>\n",
       "      <td>119</td>\n",
       "      <td>2</td>\n",
       "    </tr>\n",
       "    <tr>\n",
       "      <th>2</th>\n",
       "      <td>1302930738</td>\n",
       "      <td>180</td>\n",
       "      <td>23</td>\n",
       "      <td>195</td>\n",
       "      <td>117</td>\n",
       "      <td>2</td>\n",
       "    </tr>\n",
       "    <tr>\n",
       "      <th>3</th>\n",
       "      <td>1302930765</td>\n",
       "      <td>181</td>\n",
       "      <td>23</td>\n",
       "      <td>195</td>\n",
       "      <td>117</td>\n",
       "      <td>2</td>\n",
       "    </tr>\n",
       "    <tr>\n",
       "      <th>4</th>\n",
       "      <td>1302930782</td>\n",
       "      <td>180</td>\n",
       "      <td>23</td>\n",
       "      <td>195</td>\n",
       "      <td>118</td>\n",
       "      <td>2</td>\n",
       "    </tr>\n",
       "  </tbody>\n",
       "</table>\n",
       "</div>"
      ],
      "text/plain": [
       "         time  lighting2  lighting5  lighting4  refrigerator  microwave\n",
       "0  1302930703        180         23        195           117          2\n",
       "1  1302930721        181         23        195           119          2\n",
       "2  1302930738        180         23        195           117          2\n",
       "3  1302930765        181         23        195           117          2\n",
       "4  1302930782        180         23        195           118          2"
      ]
     },
     "execution_count": 3,
     "metadata": {},
     "output_type": "execute_result"
    }
   ],
   "source": [
    "devices_dataset.head()"
   ]
  },
  {
   "cell_type": "code",
   "execution_count": 4,
   "metadata": {},
   "outputs": [
    {
     "data": {
      "text/plain": [
       "(14999, 6)"
      ]
     },
     "execution_count": 4,
     "metadata": {},
     "output_type": "execute_result"
    }
   ],
   "source": [
    "devices_dataset.shape"
   ]
  },
  {
   "cell_type": "code",
   "execution_count": 5,
   "metadata": {},
   "outputs": [
    {
     "data": {
      "text/html": [
       "<div>\n",
       "<style scoped>\n",
       "    .dataframe tbody tr th:only-of-type {\n",
       "        vertical-align: middle;\n",
       "    }\n",
       "\n",
       "    .dataframe tbody tr th {\n",
       "        vertical-align: top;\n",
       "    }\n",
       "\n",
       "    .dataframe thead th {\n",
       "        text-align: right;\n",
       "    }\n",
       "</style>\n",
       "<table border=\"1\" class=\"dataframe\">\n",
       "  <thead>\n",
       "    <tr style=\"text-align: right;\">\n",
       "      <th></th>\n",
       "      <th>time</th>\n",
       "      <th>lighting2</th>\n",
       "      <th>lighting5</th>\n",
       "      <th>lighting4</th>\n",
       "      <th>refrigerator</th>\n",
       "      <th>microwave</th>\n",
       "    </tr>\n",
       "  </thead>\n",
       "  <tbody>\n",
       "    <tr>\n",
       "      <th>count</th>\n",
       "      <td>1.499900e+04</td>\n",
       "      <td>14999.000000</td>\n",
       "      <td>14999.000000</td>\n",
       "      <td>14999.000000</td>\n",
       "      <td>14999.000000</td>\n",
       "      <td>14999.000000</td>\n",
       "    </tr>\n",
       "    <tr>\n",
       "      <th>mean</th>\n",
       "      <td>1.303161e+09</td>\n",
       "      <td>46.444630</td>\n",
       "      <td>17.852990</td>\n",
       "      <td>45.995933</td>\n",
       "      <td>46.283086</td>\n",
       "      <td>6.710247</td>\n",
       "    </tr>\n",
       "    <tr>\n",
       "      <th>std</th>\n",
       "      <td>1.315710e+05</td>\n",
       "      <td>91.600463</td>\n",
       "      <td>45.832236</td>\n",
       "      <td>70.079602</td>\n",
       "      <td>66.730693</td>\n",
       "      <td>88.110723</td>\n",
       "    </tr>\n",
       "    <tr>\n",
       "      <th>min</th>\n",
       "      <td>1.302931e+09</td>\n",
       "      <td>0.000000</td>\n",
       "      <td>0.000000</td>\n",
       "      <td>0.000000</td>\n",
       "      <td>0.000000</td>\n",
       "      <td>0.000000</td>\n",
       "    </tr>\n",
       "    <tr>\n",
       "      <th>25%</th>\n",
       "      <td>1.303068e+09</td>\n",
       "      <td>0.000000</td>\n",
       "      <td>1.000000</td>\n",
       "      <td>0.000000</td>\n",
       "      <td>0.000000</td>\n",
       "      <td>2.000000</td>\n",
       "    </tr>\n",
       "    <tr>\n",
       "      <th>50%</th>\n",
       "      <td>1.303144e+09</td>\n",
       "      <td>0.000000</td>\n",
       "      <td>1.000000</td>\n",
       "      <td>0.000000</td>\n",
       "      <td>1.000000</td>\n",
       "      <td>2.000000</td>\n",
       "    </tr>\n",
       "    <tr>\n",
       "      <th>75%</th>\n",
       "      <td>1.303299e+09</td>\n",
       "      <td>22.000000</td>\n",
       "      <td>21.000000</td>\n",
       "      <td>63.000000</td>\n",
       "      <td>115.000000</td>\n",
       "      <td>2.000000</td>\n",
       "    </tr>\n",
       "    <tr>\n",
       "      <th>max</th>\n",
       "      <td>1.303371e+09</td>\n",
       "      <td>362.000000</td>\n",
       "      <td>211.000000</td>\n",
       "      <td>203.000000</td>\n",
       "      <td>916.000000</td>\n",
       "      <td>1798.000000</td>\n",
       "    </tr>\n",
       "  </tbody>\n",
       "</table>\n",
       "</div>"
      ],
      "text/plain": [
       "               time     lighting2     lighting5     lighting4  refrigerator  \\\n",
       "count  1.499900e+04  14999.000000  14999.000000  14999.000000  14999.000000   \n",
       "mean   1.303161e+09     46.444630     17.852990     45.995933     46.283086   \n",
       "std    1.315710e+05     91.600463     45.832236     70.079602     66.730693   \n",
       "min    1.302931e+09      0.000000      0.000000      0.000000      0.000000   \n",
       "25%    1.303068e+09      0.000000      1.000000      0.000000      0.000000   \n",
       "50%    1.303144e+09      0.000000      1.000000      0.000000      1.000000   \n",
       "75%    1.303299e+09     22.000000     21.000000     63.000000    115.000000   \n",
       "max    1.303371e+09    362.000000    211.000000    203.000000    916.000000   \n",
       "\n",
       "          microwave  \n",
       "count  14999.000000  \n",
       "mean       6.710247  \n",
       "std       88.110723  \n",
       "min        0.000000  \n",
       "25%        2.000000  \n",
       "50%        2.000000  \n",
       "75%        2.000000  \n",
       "max     1798.000000  "
      ]
     },
     "execution_count": 5,
     "metadata": {},
     "output_type": "execute_result"
    }
   ],
   "source": [
    "devices_dataset.describe()"
   ]
  },
  {
   "cell_type": "code",
   "execution_count": 6,
   "metadata": {},
   "outputs": [
    {
     "data": {
      "text/plain": [
       "time            14999\n",
       "lighting2          58\n",
       "lighting5          61\n",
       "lighting4          96\n",
       "refrigerator      109\n",
       "microwave          50\n",
       "dtype: int64"
      ]
     },
     "execution_count": 6,
     "metadata": {},
     "output_type": "execute_result"
    }
   ],
   "source": [
    "devices_dataset.nunique()"
   ]
  },
  {
   "cell_type": "code",
   "execution_count": 20,
   "metadata": {},
   "outputs": [],
   "source": [
    "train_size = int(devices_dataset.shape[0] * 0.8)\n",
    "train_sample = np.random.choice(devices_dataset.index, size=train_size)\n",
    "train_set  = devices_dataset.loc[train_sample, :]\n",
    "test_set_sample = devices_dataset.index.difference(train_set.index)\n",
    "test_set = devices_dataset.loc[test_set_sample, :]\n",
    "\n",
    "train_set = train_set.sort_values(by=\"time\")\n",
    "test_set = test_set.sort_values(by=\"time\")"
   ]
  },
  {
   "cell_type": "markdown",
   "metadata": {},
   "source": [
    "## Learning"
   ]
  },
  {
   "cell_type": "code",
   "execution_count": 17,
   "metadata": {},
   "outputs": [],
   "source": [
    "models = []\n",
    "devices_names = devices_dataset.columns[1:]\n",
    "for n in devices_names:\n",
    "    hmm_model = hmm.GaussianHMM(n_components=3, n_iter=100)\n",
    "    X = train_set[[n]]\n",
    "    hmm_model.fit(X)\n",
    "    models.append(hmm_model)"
   ]
  },
  {
   "cell_type": "code",
   "execution_count": 36,
   "metadata": {},
   "outputs": [],
   "source": [
    "results_mtrx = np.zeros((len(devices_names), len(devices_names)))\n",
    "for i, n in enumerate(devices_names): \n",
    "    for j, m in enumerate(models):\n",
    "        results_mtrx[j, i] = m.score(test_set[[n]])"
   ]
  },
  {
   "cell_type": "code",
   "execution_count": 39,
   "metadata": {},
   "outputs": [],
   "source": [
    "def select_best_model(X_train, X_test, hidden_states):\n",
    "    models = []\n",
    "    scores = []\n",
    "    for hs in hidden_states:\n",
    "        hmm_model = hmm.GaussianHMM(n_components=hs, n_iter=100)\n",
    "        hmm_model.fit(X_train)\n",
    "        models.append(hmm_model)\n",
    "        scores.append(hmm_model.score(X_test))\n",
    "    print(scores)\n",
    "    prrint(scores.index(max(scores)))\n",
    "    return models[scores.index(max(scores))]"
   ]
  },
  {
   "cell_type": "code",
   "execution_count": null,
   "metadata": {},
   "outputs": [],
   "source": [
    "test_model = select_best_model(train_set, test_set, [])"
   ]
  },
  {
   "cell_type": "code",
   "execution_count": 37,
   "metadata": {},
   "outputs": [
    {
     "data": {
      "text/html": [
       "<div>\n",
       "<style scoped>\n",
       "    .dataframe tbody tr th:only-of-type {\n",
       "        vertical-align: middle;\n",
       "    }\n",
       "\n",
       "    .dataframe tbody tr th {\n",
       "        vertical-align: top;\n",
       "    }\n",
       "\n",
       "    .dataframe thead th {\n",
       "        text-align: right;\n",
       "    }\n",
       "</style>\n",
       "<table border=\"1\" class=\"dataframe\">\n",
       "  <thead>\n",
       "    <tr style=\"text-align: right;\">\n",
       "      <th></th>\n",
       "      <th>0</th>\n",
       "      <th>1</th>\n",
       "      <th>2</th>\n",
       "      <th>3</th>\n",
       "      <th>4</th>\n",
       "    </tr>\n",
       "  </thead>\n",
       "  <tbody>\n",
       "    <tr>\n",
       "      <th>0</th>\n",
       "      <td>-28833.993313</td>\n",
       "      <td>-30780.606470</td>\n",
       "      <td>-45212.872019</td>\n",
       "      <td>-50776.825725</td>\n",
       "      <td>-92608.571811</td>\n",
       "    </tr>\n",
       "    <tr>\n",
       "      <th>1</th>\n",
       "      <td>-69118.014414</td>\n",
       "      <td>14891.505885</td>\n",
       "      <td>-50580.050333</td>\n",
       "      <td>-70678.206014</td>\n",
       "      <td>-149854.968158</td>\n",
       "    </tr>\n",
       "    <tr>\n",
       "      <th>2</th>\n",
       "      <td>-145.048969</td>\n",
       "      <td>-44865.141371</td>\n",
       "      <td>2559.329280</td>\n",
       "      <td>-26003.027316</td>\n",
       "      <td>-78221.902107</td>\n",
       "    </tr>\n",
       "    <tr>\n",
       "      <th>3</th>\n",
       "      <td>-29165.752125</td>\n",
       "      <td>-22962.992708</td>\n",
       "      <td>-30880.044991</td>\n",
       "      <td>-17028.817963</td>\n",
       "      <td>-35498.868069</td>\n",
       "    </tr>\n",
       "    <tr>\n",
       "      <th>4</th>\n",
       "      <td>-106200.777174</td>\n",
       "      <td>-45631.705583</td>\n",
       "      <td>-86376.898253</td>\n",
       "      <td>-77230.473885</td>\n",
       "      <td>-24544.446382</td>\n",
       "    </tr>\n",
       "  </tbody>\n",
       "</table>\n",
       "</div>"
      ],
      "text/plain": [
       "               0             1             2             3              4\n",
       "0  -28833.993313 -30780.606470 -45212.872019 -50776.825725  -92608.571811\n",
       "1  -69118.014414  14891.505885 -50580.050333 -70678.206014 -149854.968158\n",
       "2    -145.048969 -44865.141371   2559.329280 -26003.027316  -78221.902107\n",
       "3  -29165.752125 -22962.992708 -30880.044991 -17028.817963  -35498.868069\n",
       "4 -106200.777174 -45631.705583 -86376.898253 -77230.473885  -24544.446382"
      ]
     },
     "execution_count": 37,
     "metadata": {},
     "output_type": "execute_result"
    }
   ],
   "source": [
    "pd.DataFrame(results_mtrx)"
   ]
  }
 ],
 "metadata": {
  "kernelspec": {
   "display_name": "venv",
   "language": "python",
   "name": "venv"
  },
  "language_info": {
   "codemirror_mode": {
    "name": "ipython",
    "version": 3
   },
   "file_extension": ".py",
   "mimetype": "text/x-python",
   "name": "python",
   "nbconvert_exporter": "python",
   "pygments_lexer": "ipython3",
   "version": "3.5.2"
  }
 },
 "nbformat": 4,
 "nbformat_minor": 4
}
