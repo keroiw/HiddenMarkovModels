{
 "cells": [
  {
   "cell_type": "code",
   "execution_count": 3,
   "metadata": {},
   "outputs": [],
   "source": [
    "import matplotlib.pyplot as plt\n",
    "import os\n",
    "import pandas as pd\n",
    "import seaborn as sns\n",
    "\n",
    "\n",
    "from collections import OrderedDict\n",
    "from hmm_learning import train_device_models, evaluate_models, read_test_files, summarize_params_selection\n",
    "from hmmlearn import hmm\n",
    "from visualisations import classification_heatmap, highlight_max"
   ]
  },
  {
   "cell_type": "code",
   "execution_count": 4,
   "metadata": {},
   "outputs": [],
   "source": [
    "devices_dataset = pd.read_csv(\"house_devices.csv\")"
   ]
  },
  {
   "cell_type": "code",
   "execution_count": 3,
   "metadata": {},
   "outputs": [
    {
     "data": {
      "text/html": [
       "<div>\n",
       "<style scoped>\n",
       "    .dataframe tbody tr th:only-of-type {\n",
       "        vertical-align: middle;\n",
       "    }\n",
       "\n",
       "    .dataframe tbody tr th {\n",
       "        vertical-align: top;\n",
       "    }\n",
       "\n",
       "    .dataframe thead th {\n",
       "        text-align: right;\n",
       "    }\n",
       "</style>\n",
       "<table border=\"1\" class=\"dataframe\">\n",
       "  <thead>\n",
       "    <tr style=\"text-align: right;\">\n",
       "      <th></th>\n",
       "      <th>time</th>\n",
       "      <th>lighting2</th>\n",
       "      <th>lighting5</th>\n",
       "      <th>lighting4</th>\n",
       "      <th>refrigerator</th>\n",
       "      <th>microwave</th>\n",
       "    </tr>\n",
       "  </thead>\n",
       "  <tbody>\n",
       "    <tr>\n",
       "      <th>0</th>\n",
       "      <td>1302930703</td>\n",
       "      <td>180</td>\n",
       "      <td>23</td>\n",
       "      <td>195</td>\n",
       "      <td>117</td>\n",
       "      <td>2</td>\n",
       "    </tr>\n",
       "    <tr>\n",
       "      <th>1</th>\n",
       "      <td>1302930721</td>\n",
       "      <td>181</td>\n",
       "      <td>23</td>\n",
       "      <td>195</td>\n",
       "      <td>119</td>\n",
       "      <td>2</td>\n",
       "    </tr>\n",
       "    <tr>\n",
       "      <th>2</th>\n",
       "      <td>1302930738</td>\n",
       "      <td>180</td>\n",
       "      <td>23</td>\n",
       "      <td>195</td>\n",
       "      <td>117</td>\n",
       "      <td>2</td>\n",
       "    </tr>\n",
       "    <tr>\n",
       "      <th>3</th>\n",
       "      <td>1302930765</td>\n",
       "      <td>181</td>\n",
       "      <td>23</td>\n",
       "      <td>195</td>\n",
       "      <td>117</td>\n",
       "      <td>2</td>\n",
       "    </tr>\n",
       "    <tr>\n",
       "      <th>4</th>\n",
       "      <td>1302930782</td>\n",
       "      <td>180</td>\n",
       "      <td>23</td>\n",
       "      <td>195</td>\n",
       "      <td>118</td>\n",
       "      <td>2</td>\n",
       "    </tr>\n",
       "  </tbody>\n",
       "</table>\n",
       "</div>"
      ],
      "text/plain": [
       "         time  lighting2  lighting5  lighting4  refrigerator  microwave\n",
       "0  1302930703        180         23        195           117          2\n",
       "1  1302930721        181         23        195           119          2\n",
       "2  1302930738        180         23        195           117          2\n",
       "3  1302930765        181         23        195           117          2\n",
       "4  1302930782        180         23        195           118          2"
      ]
     },
     "execution_count": 3,
     "metadata": {},
     "output_type": "execute_result"
    }
   ],
   "source": [
    "devices_dataset.head()"
   ]
  },
  {
   "cell_type": "code",
   "execution_count": 4,
   "metadata": {},
   "outputs": [
    {
     "data": {
      "text/plain": [
       "(14999, 6)"
      ]
     },
     "execution_count": 4,
     "metadata": {},
     "output_type": "execute_result"
    }
   ],
   "source": [
    "devices_dataset.shape"
   ]
  },
  {
   "cell_type": "code",
   "execution_count": 5,
   "metadata": {},
   "outputs": [
    {
     "data": {
      "text/html": [
       "<div>\n",
       "<style scoped>\n",
       "    .dataframe tbody tr th:only-of-type {\n",
       "        vertical-align: middle;\n",
       "    }\n",
       "\n",
       "    .dataframe tbody tr th {\n",
       "        vertical-align: top;\n",
       "    }\n",
       "\n",
       "    .dataframe thead th {\n",
       "        text-align: right;\n",
       "    }\n",
       "</style>\n",
       "<table border=\"1\" class=\"dataframe\">\n",
       "  <thead>\n",
       "    <tr style=\"text-align: right;\">\n",
       "      <th></th>\n",
       "      <th>time</th>\n",
       "      <th>lighting2</th>\n",
       "      <th>lighting5</th>\n",
       "      <th>lighting4</th>\n",
       "      <th>refrigerator</th>\n",
       "      <th>microwave</th>\n",
       "    </tr>\n",
       "  </thead>\n",
       "  <tbody>\n",
       "    <tr>\n",
       "      <th>count</th>\n",
       "      <td>1.499900e+04</td>\n",
       "      <td>14999.000000</td>\n",
       "      <td>14999.000000</td>\n",
       "      <td>14999.000000</td>\n",
       "      <td>14999.000000</td>\n",
       "      <td>14999.000000</td>\n",
       "    </tr>\n",
       "    <tr>\n",
       "      <th>mean</th>\n",
       "      <td>1.303161e+09</td>\n",
       "      <td>46.444630</td>\n",
       "      <td>17.852990</td>\n",
       "      <td>45.995933</td>\n",
       "      <td>46.283086</td>\n",
       "      <td>6.710247</td>\n",
       "    </tr>\n",
       "    <tr>\n",
       "      <th>std</th>\n",
       "      <td>1.315710e+05</td>\n",
       "      <td>91.600463</td>\n",
       "      <td>45.832236</td>\n",
       "      <td>70.079602</td>\n",
       "      <td>66.730693</td>\n",
       "      <td>88.110723</td>\n",
       "    </tr>\n",
       "    <tr>\n",
       "      <th>min</th>\n",
       "      <td>1.302931e+09</td>\n",
       "      <td>0.000000</td>\n",
       "      <td>0.000000</td>\n",
       "      <td>0.000000</td>\n",
       "      <td>0.000000</td>\n",
       "      <td>0.000000</td>\n",
       "    </tr>\n",
       "    <tr>\n",
       "      <th>25%</th>\n",
       "      <td>1.303068e+09</td>\n",
       "      <td>0.000000</td>\n",
       "      <td>1.000000</td>\n",
       "      <td>0.000000</td>\n",
       "      <td>0.000000</td>\n",
       "      <td>2.000000</td>\n",
       "    </tr>\n",
       "    <tr>\n",
       "      <th>50%</th>\n",
       "      <td>1.303144e+09</td>\n",
       "      <td>0.000000</td>\n",
       "      <td>1.000000</td>\n",
       "      <td>0.000000</td>\n",
       "      <td>1.000000</td>\n",
       "      <td>2.000000</td>\n",
       "    </tr>\n",
       "    <tr>\n",
       "      <th>75%</th>\n",
       "      <td>1.303299e+09</td>\n",
       "      <td>22.000000</td>\n",
       "      <td>21.000000</td>\n",
       "      <td>63.000000</td>\n",
       "      <td>115.000000</td>\n",
       "      <td>2.000000</td>\n",
       "    </tr>\n",
       "    <tr>\n",
       "      <th>max</th>\n",
       "      <td>1.303371e+09</td>\n",
       "      <td>362.000000</td>\n",
       "      <td>211.000000</td>\n",
       "      <td>203.000000</td>\n",
       "      <td>916.000000</td>\n",
       "      <td>1798.000000</td>\n",
       "    </tr>\n",
       "  </tbody>\n",
       "</table>\n",
       "</div>"
      ],
      "text/plain": [
       "               time     lighting2     lighting5     lighting4  refrigerator  \\\n",
       "count  1.499900e+04  14999.000000  14999.000000  14999.000000  14999.000000   \n",
       "mean   1.303161e+09     46.444630     17.852990     45.995933     46.283086   \n",
       "std    1.315710e+05     91.600463     45.832236     70.079602     66.730693   \n",
       "min    1.302931e+09      0.000000      0.000000      0.000000      0.000000   \n",
       "25%    1.303068e+09      0.000000      1.000000      0.000000      0.000000   \n",
       "50%    1.303144e+09      0.000000      1.000000      0.000000      1.000000   \n",
       "75%    1.303299e+09     22.000000     21.000000     63.000000    115.000000   \n",
       "max    1.303371e+09    362.000000    211.000000    203.000000    916.000000   \n",
       "\n",
       "          microwave  \n",
       "count  14999.000000  \n",
       "mean       6.710247  \n",
       "std       88.110723  \n",
       "min        0.000000  \n",
       "25%        2.000000  \n",
       "50%        2.000000  \n",
       "75%        2.000000  \n",
       "max     1798.000000  "
      ]
     },
     "execution_count": 5,
     "metadata": {},
     "output_type": "execute_result"
    }
   ],
   "source": [
    "devices_dataset.describe()"
   ]
  },
  {
   "cell_type": "code",
   "execution_count": 6,
   "metadata": {},
   "outputs": [
    {
     "data": {
      "text/plain": [
       "time            14999\n",
       "lighting2          58\n",
       "lighting5          61\n",
       "lighting4          96\n",
       "refrigerator      109\n",
       "microwave          50\n",
       "dtype: int64"
      ]
     },
     "execution_count": 6,
     "metadata": {},
     "output_type": "execute_result"
    }
   ],
   "source": [
    "devices_dataset.nunique()"
   ]
  },
  {
   "cell_type": "markdown",
   "metadata": {},
   "source": [
    "## Learning process"
   ]
  },
  {
   "cell_type": "code",
   "execution_count": 5,
   "metadata": {},
   "outputs": [],
   "source": [
    "result_df, collected_models = train_device_models(devices_dataset)"
   ]
  },
  {
   "cell_type": "code",
   "execution_count": 6,
   "metadata": {},
   "outputs": [
    {
     "data": {
      "image/png": "[encoded data removed]",
      "text/plain": [
       "<Figure size 576x504 with 2 Axes>"
      ]
     },
     "metadata": {
      "needs_background": "light"
     },
     "output_type": "display_data"
    }
   ],
   "source": [
    "classification_heatmap(result_df)"
   ]
  },
  {
   "cell_type": "code",
   "execution_count": 7,
   "metadata": {},
   "outputs": [
    {
     "data": {
      "text/html": [
       "<div>\n",
       "<style scoped>\n",
       "    .dataframe tbody tr th:only-of-type {\n",
       "        vertical-align: middle;\n",
       "    }\n",
       "\n",
       "    .dataframe tbody tr th {\n",
       "        vertical-align: top;\n",
       "    }\n",
       "\n",
       "    .dataframe thead th {\n",
       "        text-align: right;\n",
       "    }\n",
       "</style>\n",
       "<table border=\"1\" class=\"dataframe\">\n",
       "  <thead>\n",
       "    <tr style=\"text-align: right;\">\n",
       "      <th></th>\n",
       "      <th>Hidden States</th>\n",
       "    </tr>\n",
       "    <tr>\n",
       "      <th>Device</th>\n",
       "      <th></th>\n",
       "    </tr>\n",
       "  </thead>\n",
       "  <tbody>\n",
       "    <tr>\n",
       "      <th>lighting2</th>\n",
       "      <td>2</td>\n",
       "    </tr>\n",
       "    <tr>\n",
       "      <th>lighting5</th>\n",
       "      <td>2</td>\n",
       "    </tr>\n",
       "    <tr>\n",
       "      <th>lighting4</th>\n",
       "      <td>2</td>\n",
       "    </tr>\n",
       "    <tr>\n",
       "      <th>refrigerator</th>\n",
       "      <td>2</td>\n",
       "    </tr>\n",
       "    <tr>\n",
       "      <th>microwave</th>\n",
       "      <td>2</td>\n",
       "    </tr>\n",
       "  </tbody>\n",
       "</table>\n",
       "</div>"
      ],
      "text/plain": [
       "              Hidden States\n",
       "Device                     \n",
       "lighting2                 2\n",
       "lighting5                 2\n",
       "lighting4                 2\n",
       "refrigerator              2\n",
       "microwave                 2"
      ]
     },
     "execution_count": 7,
     "metadata": {},
     "output_type": "execute_result"
    }
   ],
   "source": [
    "summarize_params_selection(collected_models)"
   ]
  },
  {
   "cell_type": "markdown",
   "metadata": {},
   "source": [
    "## Evaluation on training sets"
   ]
  },
  {
   "cell_type": "code",
   "execution_count": 8,
   "metadata": {},
   "outputs": [],
   "source": [
    "test_dfs = read_test_files()\n",
    "true_labels = [\"ligthing2\", \"ligthing2\", \"refrigerator\", \"microwave\", \"lighting5\", \"lighting4\"]\n",
    "evaluation_results = evaluate_models(test_dfs, collected_models, true_labels)"
   ]
  },
  {
   "cell_type": "code",
   "execution_count": 9,
   "metadata": {},
   "outputs": [
    {
     "data": {
      "text/html": [
       "<style  type=\"text/css\" >\n",
       "    #T_c3249652_bcb3_11ea_a6cb_28c2dd1ac7d1row0_col4 {\n",
       "            background-color:  yellow;\n",
       "        }    #T_c3249652_bcb3_11ea_a6cb_28c2dd1ac7d1row1_col0 {\n",
       "            background-color:  yellow;\n",
       "        }    #T_c3249652_bcb3_11ea_a6cb_28c2dd1ac7d1row2_col4 {\n",
       "            background-color:  yellow;\n",
       "        }    #T_c3249652_bcb3_11ea_a6cb_28c2dd1ac7d1row3_col3 {\n",
       "            background-color:  yellow;\n",
       "        }    #T_c3249652_bcb3_11ea_a6cb_28c2dd1ac7d1row4_col4 {\n",
       "            background-color:  yellow;\n",
       "        }    #T_c3249652_bcb3_11ea_a6cb_28c2dd1ac7d1row5_col4 {\n",
       "            background-color:  yellow;\n",
       "        }</style><table id=\"T_c3249652_bcb3_11ea_a6cb_28c2dd1ac7d1\" ><thead>    <tr>        <th class=\"blank level0\" ></th>        <th class=\"col_heading level0 col0\" >lighting2</th>        <th class=\"col_heading level0 col1\" >lighting4</th>        <th class=\"col_heading level0 col2\" >lighting5</th>        <th class=\"col_heading level0 col3\" >microwave</th>        <th class=\"col_heading level0 col4\" >refrigerator</th>        <th class=\"col_heading level0 col5\" >True labels</th>    </tr></thead><tbody>\n",
       "                <tr>\n",
       "                        <th id=\"T_c3249652_bcb3_11ea_a6cb_28c2dd1ac7d1level0_row0\" class=\"row_heading level0 row0\" >0</th>\n",
       "                        <td id=\"T_c3249652_bcb3_11ea_a6cb_28c2dd1ac7d1row0_col0\" class=\"data row0 col0\" >-14832.5</td>\n",
       "                        <td id=\"T_c3249652_bcb3_11ea_a6cb_28c2dd1ac7d1row0_col1\" class=\"data row0 col1\" >-15795.5</td>\n",
       "                        <td id=\"T_c3249652_bcb3_11ea_a6cb_28c2dd1ac7d1row0_col2\" class=\"data row0 col2\" >-14723</td>\n",
       "                        <td id=\"T_c3249652_bcb3_11ea_a6cb_28c2dd1ac7d1row0_col3\" class=\"data row0 col3\" >-126160</td>\n",
       "                        <td id=\"T_c3249652_bcb3_11ea_a6cb_28c2dd1ac7d1row0_col4\" class=\"data row0 col4\" >-11425.8</td>\n",
       "                        <td id=\"T_c3249652_bcb3_11ea_a6cb_28c2dd1ac7d1row0_col5\" class=\"data row0 col5\" >ligthing2</td>\n",
       "            </tr>\n",
       "            <tr>\n",
       "                        <th id=\"T_c3249652_bcb3_11ea_a6cb_28c2dd1ac7d1level0_row1\" class=\"row_heading level0 row1\" >1</th>\n",
       "                        <td id=\"T_c3249652_bcb3_11ea_a6cb_28c2dd1ac7d1row1_col0\" class=\"data row1 col0\" >-28059.7</td>\n",
       "                        <td id=\"T_c3249652_bcb3_11ea_a6cb_28c2dd1ac7d1row1_col1\" class=\"data row1 col1\" >-40339.2</td>\n",
       "                        <td id=\"T_c3249652_bcb3_11ea_a6cb_28c2dd1ac7d1row1_col2\" class=\"data row1 col2\" >-74636.6</td>\n",
       "                        <td id=\"T_c3249652_bcb3_11ea_a6cb_28c2dd1ac7d1row1_col3\" class=\"data row1 col3\" >-46332.5</td>\n",
       "                        <td id=\"T_c3249652_bcb3_11ea_a6cb_28c2dd1ac7d1row1_col4\" class=\"data row1 col4\" >-28955</td>\n",
       "                        <td id=\"T_c3249652_bcb3_11ea_a6cb_28c2dd1ac7d1row1_col5\" class=\"data row1 col5\" >ligthing2</td>\n",
       "            </tr>\n",
       "            <tr>\n",
       "                        <th id=\"T_c3249652_bcb3_11ea_a6cb_28c2dd1ac7d1level0_row2\" class=\"row_heading level0 row2\" >2</th>\n",
       "                        <td id=\"T_c3249652_bcb3_11ea_a6cb_28c2dd1ac7d1row2_col0\" class=\"data row2 col0\" >-36481.1</td>\n",
       "                        <td id=\"T_c3249652_bcb3_11ea_a6cb_28c2dd1ac7d1row2_col1\" class=\"data row2 col1\" >-43283.8</td>\n",
       "                        <td id=\"T_c3249652_bcb3_11ea_a6cb_28c2dd1ac7d1row2_col2\" class=\"data row2 col2\" >-103954</td>\n",
       "                        <td id=\"T_c3249652_bcb3_11ea_a6cb_28c2dd1ac7d1row2_col3\" class=\"data row2 col3\" >-52422</td>\n",
       "                        <td id=\"T_c3249652_bcb3_11ea_a6cb_28c2dd1ac7d1row2_col4\" class=\"data row2 col4\" >-21742</td>\n",
       "                        <td id=\"T_c3249652_bcb3_11ea_a6cb_28c2dd1ac7d1row2_col5\" class=\"data row2 col5\" >refrigerator</td>\n",
       "            </tr>\n",
       "            <tr>\n",
       "                        <th id=\"T_c3249652_bcb3_11ea_a6cb_28c2dd1ac7d1level0_row3\" class=\"row_heading level0 row3\" >3</th>\n",
       "                        <td id=\"T_c3249652_bcb3_11ea_a6cb_28c2dd1ac7d1row3_col0\" class=\"data row3 col0\" >-34214.9</td>\n",
       "                        <td id=\"T_c3249652_bcb3_11ea_a6cb_28c2dd1ac7d1row3_col1\" class=\"data row3 col1\" >-87760.1</td>\n",
       "                        <td id=\"T_c3249652_bcb3_11ea_a6cb_28c2dd1ac7d1row3_col2\" class=\"data row3 col2\" >-265529</td>\n",
       "                        <td id=\"T_c3249652_bcb3_11ea_a6cb_28c2dd1ac7d1row3_col3\" class=\"data row3 col3\" >-8528.16</td>\n",
       "                        <td id=\"T_c3249652_bcb3_11ea_a6cb_28c2dd1ac7d1row3_col4\" class=\"data row3 col4\" >-60098.9</td>\n",
       "                        <td id=\"T_c3249652_bcb3_11ea_a6cb_28c2dd1ac7d1row3_col5\" class=\"data row3 col5\" >microwave</td>\n",
       "            </tr>\n",
       "            <tr>\n",
       "                        <th id=\"T_c3249652_bcb3_11ea_a6cb_28c2dd1ac7d1level0_row4\" class=\"row_heading level0 row4\" >4</th>\n",
       "                        <td id=\"T_c3249652_bcb3_11ea_a6cb_28c2dd1ac7d1row4_col0\" class=\"data row4 col0\" >-16888.9</td>\n",
       "                        <td id=\"T_c3249652_bcb3_11ea_a6cb_28c2dd1ac7d1row4_col1\" class=\"data row4 col1\" >-19302.2</td>\n",
       "                        <td id=\"T_c3249652_bcb3_11ea_a6cb_28c2dd1ac7d1row4_col2\" class=\"data row4 col2\" >-17756</td>\n",
       "                        <td id=\"T_c3249652_bcb3_11ea_a6cb_28c2dd1ac7d1row4_col3\" class=\"data row4 col3\" >-23070.4</td>\n",
       "                        <td id=\"T_c3249652_bcb3_11ea_a6cb_28c2dd1ac7d1row4_col4\" class=\"data row4 col4\" >-8448.43</td>\n",
       "                        <td id=\"T_c3249652_bcb3_11ea_a6cb_28c2dd1ac7d1row4_col5\" class=\"data row4 col5\" >lighting5</td>\n",
       "            </tr>\n",
       "            <tr>\n",
       "                        <th id=\"T_c3249652_bcb3_11ea_a6cb_28c2dd1ac7d1level0_row5\" class=\"row_heading level0 row5\" >5</th>\n",
       "                        <td id=\"T_c3249652_bcb3_11ea_a6cb_28c2dd1ac7d1row5_col0\" class=\"data row5 col0\" >-16162.3</td>\n",
       "                        <td id=\"T_c3249652_bcb3_11ea_a6cb_28c2dd1ac7d1row5_col1\" class=\"data row5 col1\" >-17523.5</td>\n",
       "                        <td id=\"T_c3249652_bcb3_11ea_a6cb_28c2dd1ac7d1row5_col2\" class=\"data row5 col2\" >-22265.4</td>\n",
       "                        <td id=\"T_c3249652_bcb3_11ea_a6cb_28c2dd1ac7d1row5_col3\" class=\"data row5 col3\" >-28348.1</td>\n",
       "                        <td id=\"T_c3249652_bcb3_11ea_a6cb_28c2dd1ac7d1row5_col4\" class=\"data row5 col4\" >-8825.82</td>\n",
       "                        <td id=\"T_c3249652_bcb3_11ea_a6cb_28c2dd1ac7d1row5_col5\" class=\"data row5 col5\" >lighting4</td>\n",
       "            </tr>\n",
       "    </tbody></table>"
      ],
      "text/plain": [
       "<pandas.io.formats.style.Styler at 0x7f8afc972240>"
      ]
     },
     "execution_count": 9,
     "metadata": {},
     "output_type": "execute_result"
    }
   ],
   "source": [
    "evaluation_results.style.apply(highlight_max, axis=1)"
   ]
  }
 ],
 "metadata": {
  "kernelspec": {
   "display_name": "venv",
   "language": "python",
   "name": "venv"
  },
  "language_info": {
   "codemirror_mode": {
    "name": "ipython",
    "version": 3
   },
   "file_extension": ".py",
   "mimetype": "text/x-python",
   "name": "python",
   "nbconvert_exporter": "python",
   "pygments_lexer": "ipython3",
   "version": "3.5.2"
  }
 },
 "nbformat": 4,
 "nbformat_minor": 4
}
