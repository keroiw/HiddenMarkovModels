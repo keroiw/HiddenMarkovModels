{
 "cells": [
  {
   "cell_type": "code",
   "execution_count": 1,
   "metadata": {},
   "outputs": [],
   "source": [
    "import pandas as pd\n",
    "import matplotlib as pyplot\n",
    "import numpy as np\n",
    "import seaborn as sns\n",
    "import sklearn\n",
    "import math\n",
    "import matplotlib.pyplot as plt\n",
    "\n",
    "from collections import OrderedDict\n",
    "from hmmlearn import hmm"
   ]
  },
  {
   "cell_type": "code",
   "execution_count": 2,
   "metadata": {},
   "outputs": [],
   "source": [
    "devices_dataset = pd.read_csv(\"house_devices.csv\")"
   ]
  },
  {
   "cell_type": "code",
   "execution_count": 3,
   "metadata": {},
   "outputs": [
    {
     "data": {
      "text/html": [
       "<div>\n",
       "<style scoped>\n",
       "    .dataframe tbody tr th:only-of-type {\n",
       "        vertical-align: middle;\n",
       "    }\n",
       "\n",
       "    .dataframe tbody tr th {\n",
       "        vertical-align: top;\n",
       "    }\n",
       "\n",
       "    .dataframe thead th {\n",
       "        text-align: right;\n",
       "    }\n",
       "</style>\n",
       "<table border=\"1\" class=\"dataframe\">\n",
       "  <thead>\n",
       "    <tr style=\"text-align: right;\">\n",
       "      <th></th>\n",
       "      <th>time</th>\n",
       "      <th>lighting2</th>\n",
       "      <th>lighting5</th>\n",
       "      <th>lighting4</th>\n",
       "      <th>refrigerator</th>\n",
       "      <th>microwave</th>\n",
       "    </tr>\n",
       "  </thead>\n",
       "  <tbody>\n",
       "    <tr>\n",
       "      <th>0</th>\n",
       "      <td>1302930703</td>\n",
       "      <td>180</td>\n",
       "      <td>23</td>\n",
       "      <td>195</td>\n",
       "      <td>117</td>\n",
       "      <td>2</td>\n",
       "    </tr>\n",
       "    <tr>\n",
       "      <th>1</th>\n",
       "      <td>1302930721</td>\n",
       "      <td>181</td>\n",
       "      <td>23</td>\n",
       "      <td>195</td>\n",
       "      <td>119</td>\n",
       "      <td>2</td>\n",
       "    </tr>\n",
       "    <tr>\n",
       "      <th>2</th>\n",
       "      <td>1302930738</td>\n",
       "      <td>180</td>\n",
       "      <td>23</td>\n",
       "      <td>195</td>\n",
       "      <td>117</td>\n",
       "      <td>2</td>\n",
       "    </tr>\n",
       "    <tr>\n",
       "      <th>3</th>\n",
       "      <td>1302930765</td>\n",
       "      <td>181</td>\n",
       "      <td>23</td>\n",
       "      <td>195</td>\n",
       "      <td>117</td>\n",
       "      <td>2</td>\n",
       "    </tr>\n",
       "    <tr>\n",
       "      <th>4</th>\n",
       "      <td>1302930782</td>\n",
       "      <td>180</td>\n",
       "      <td>23</td>\n",
       "      <td>195</td>\n",
       "      <td>118</td>\n",
       "      <td>2</td>\n",
       "    </tr>\n",
       "  </tbody>\n",
       "</table>\n",
       "</div>"
      ],
      "text/plain": [
       "         time  lighting2  lighting5  lighting4  refrigerator  microwave\n",
       "0  1302930703        180         23        195           117          2\n",
       "1  1302930721        181         23        195           119          2\n",
       "2  1302930738        180         23        195           117          2\n",
       "3  1302930765        181         23        195           117          2\n",
       "4  1302930782        180         23        195           118          2"
      ]
     },
     "execution_count": 3,
     "metadata": {},
     "output_type": "execute_result"
    }
   ],
   "source": [
    "devices_dataset.head()"
   ]
  },
  {
   "cell_type": "code",
   "execution_count": 4,
   "metadata": {},
   "outputs": [
    {
     "data": {
      "text/plain": [
       "(14999, 6)"
      ]
     },
     "execution_count": 4,
     "metadata": {},
     "output_type": "execute_result"
    }
   ],
   "source": [
    "devices_dataset.shape"
   ]
  },
  {
   "cell_type": "code",
   "execution_count": 5,
   "metadata": {},
   "outputs": [
    {
     "data": {
      "text/html": [
       "<div>\n",
       "<style scoped>\n",
       "    .dataframe tbody tr th:only-of-type {\n",
       "        vertical-align: middle;\n",
       "    }\n",
       "\n",
       "    .dataframe tbody tr th {\n",
       "        vertical-align: top;\n",
       "    }\n",
       "\n",
       "    .dataframe thead th {\n",
       "        text-align: right;\n",
       "    }\n",
       "</style>\n",
       "<table border=\"1\" class=\"dataframe\">\n",
       "  <thead>\n",
       "    <tr style=\"text-align: right;\">\n",
       "      <th></th>\n",
       "      <th>time</th>\n",
       "      <th>lighting2</th>\n",
       "      <th>lighting5</th>\n",
       "      <th>lighting4</th>\n",
       "      <th>refrigerator</th>\n",
       "      <th>microwave</th>\n",
       "    </tr>\n",
       "  </thead>\n",
       "  <tbody>\n",
       "    <tr>\n",
       "      <th>count</th>\n",
       "      <td>1.499900e+04</td>\n",
       "      <td>14999.000000</td>\n",
       "      <td>14999.000000</td>\n",
       "      <td>14999.000000</td>\n",
       "      <td>14999.000000</td>\n",
       "      <td>14999.000000</td>\n",
       "    </tr>\n",
       "    <tr>\n",
       "      <th>mean</th>\n",
       "      <td>1.303161e+09</td>\n",
       "      <td>46.444630</td>\n",
       "      <td>17.852990</td>\n",
       "      <td>45.995933</td>\n",
       "      <td>46.283086</td>\n",
       "      <td>6.710247</td>\n",
       "    </tr>\n",
       "    <tr>\n",
       "      <th>std</th>\n",
       "      <td>1.315710e+05</td>\n",
       "      <td>91.600463</td>\n",
       "      <td>45.832236</td>\n",
       "      <td>70.079602</td>\n",
       "      <td>66.730693</td>\n",
       "      <td>88.110723</td>\n",
       "    </tr>\n",
       "    <tr>\n",
       "      <th>min</th>\n",
       "      <td>1.302931e+09</td>\n",
       "      <td>0.000000</td>\n",
       "      <td>0.000000</td>\n",
       "      <td>0.000000</td>\n",
       "      <td>0.000000</td>\n",
       "      <td>0.000000</td>\n",
       "    </tr>\n",
       "    <tr>\n",
       "      <th>25%</th>\n",
       "      <td>1.303068e+09</td>\n",
       "      <td>0.000000</td>\n",
       "      <td>1.000000</td>\n",
       "      <td>0.000000</td>\n",
       "      <td>0.000000</td>\n",
       "      <td>2.000000</td>\n",
       "    </tr>\n",
       "    <tr>\n",
       "      <th>50%</th>\n",
       "      <td>1.303144e+09</td>\n",
       "      <td>0.000000</td>\n",
       "      <td>1.000000</td>\n",
       "      <td>0.000000</td>\n",
       "      <td>1.000000</td>\n",
       "      <td>2.000000</td>\n",
       "    </tr>\n",
       "    <tr>\n",
       "      <th>75%</th>\n",
       "      <td>1.303299e+09</td>\n",
       "      <td>22.000000</td>\n",
       "      <td>21.000000</td>\n",
       "      <td>63.000000</td>\n",
       "      <td>115.000000</td>\n",
       "      <td>2.000000</td>\n",
       "    </tr>\n",
       "    <tr>\n",
       "      <th>max</th>\n",
       "      <td>1.303371e+09</td>\n",
       "      <td>362.000000</td>\n",
       "      <td>211.000000</td>\n",
       "      <td>203.000000</td>\n",
       "      <td>916.000000</td>\n",
       "      <td>1798.000000</td>\n",
       "    </tr>\n",
       "  </tbody>\n",
       "</table>\n",
       "</div>"
      ],
      "text/plain": [
       "               time     lighting2     lighting5     lighting4  refrigerator  \\\n",
       "count  1.499900e+04  14999.000000  14999.000000  14999.000000  14999.000000   \n",
       "mean   1.303161e+09     46.444630     17.852990     45.995933     46.283086   \n",
       "std    1.315710e+05     91.600463     45.832236     70.079602     66.730693   \n",
       "min    1.302931e+09      0.000000      0.000000      0.000000      0.000000   \n",
       "25%    1.303068e+09      0.000000      1.000000      0.000000      0.000000   \n",
       "50%    1.303144e+09      0.000000      1.000000      0.000000      1.000000   \n",
       "75%    1.303299e+09     22.000000     21.000000     63.000000    115.000000   \n",
       "max    1.303371e+09    362.000000    211.000000    203.000000    916.000000   \n",
       "\n",
       "          microwave  \n",
       "count  14999.000000  \n",
       "mean       6.710247  \n",
       "std       88.110723  \n",
       "min        0.000000  \n",
       "25%        2.000000  \n",
       "50%        2.000000  \n",
       "75%        2.000000  \n",
       "max     1798.000000  "
      ]
     },
     "execution_count": 5,
     "metadata": {},
     "output_type": "execute_result"
    }
   ],
   "source": [
    "devices_dataset.describe()"
   ]
  },
  {
   "cell_type": "code",
   "execution_count": 6,
   "metadata": {},
   "outputs": [
    {
     "data": {
      "text/plain": [
       "time            14999\n",
       "lighting2          58\n",
       "lighting5          61\n",
       "lighting4          96\n",
       "refrigerator      109\n",
       "microwave          50\n",
       "dtype: int64"
      ]
     },
     "execution_count": 6,
     "metadata": {},
     "output_type": "execute_result"
    }
   ],
   "source": [
    "devices_dataset.nunique()"
   ]
  },
  {
   "cell_type": "markdown",
   "metadata": {},
   "source": [
    "## Learning process"
   ]
  },
  {
   "cell_type": "code",
   "execution_count": 8,
   "metadata": {},
   "outputs": [],
   "source": [
    "devices_names = devices_dataset.columns[1:]\n",
    "hidden_states = [i for i in range(4, 8) if i % 2 == 0]\n",
    "\n",
    "\n",
    "class ModelsContainer:\n",
    "    __slots__ = ['models', 'scores', 'states']\n",
    "\n",
    "    def __init__(self):\n",
    "        self.models = []\n",
    "        self.scores = []\n",
    "        self.states = []\n",
    "\n",
    "    def add_model(self, model, score, state):\n",
    "        self.models.append(model)\n",
    "        self.scores.append(score)\n",
    "        self.states.append(state)\n",
    "\n",
    "    def get_best_model(self):\n",
    "        max_score_idx = self.scores.index(max(self.scores))\n",
    "        return self.models[max_score_idx], self.scores[max_score_idx], self.states[max_score_idx]\n",
    "\n",
    "\n",
    "def train_test(dataset):\n",
    "    train_size = int(dataset.shape[0] * 0.8)\n",
    "    train_sample = np.random.choice(dataset.index, size=train_size)\n",
    "    train_set = dataset.loc[train_sample, :]\n",
    "    test_set_sample = dataset.index.difference(train_set.index)\n",
    "    test_set = dataset.loc[test_set_sample, :]\n",
    "\n",
    "    train_set = train_set.sort_values(by=\"time\")\n",
    "    test_set = test_set.sort_values(by=\"time\")\n",
    "    return train_set, test_set\n",
    "\n",
    "\n",
    "def extract_column(X_train, X_test, col_name):\n",
    "    return X_train[[col_name]], X_test[[col_name]]\n",
    "\n",
    "\n",
    "def select_hidden_state(X_train, X_test, hidden_states):\n",
    "    models_container = ModelsContainer()\n",
    "    for hs in hidden_states:\n",
    "        hmm_model = hmm.GaussianHMM(n_components=hs, n_iter=10)\n",
    "        hmm_model.fit(X_train)\n",
    "        model_score = hmm_model.score(X_test)\n",
    "        models_container.add_model(hmm_model, model_score, hs)\n",
    "    return models_container.get_best_model()\n",
    "\n",
    "\n",
    "def select_best_model(dataset, col_name, hidden_states, reps=3):\n",
    "    models_container = ModelsContainer()\n",
    "    for _ in range(reps):\n",
    "        X_train, X_test = train_test(dataset)\n",
    "        X_train, X_test = extract_column(X_train, X_test, col_name)\n",
    "        model, score, hs = select_hidden_state(X_train, X_test, hidden_states)\n",
    "        models_container.add_model(model, score, hs)\n",
    "    return models_container.get_best_model()"
   ]
  },
  {
   "cell_type": "code",
   "execution_count": 9,
   "metadata": {},
   "outputs": [],
   "source": [
    "collected_models = OrderedDict()\n",
    "for devices_cols in devices_dataset.columns[1:]:\n",
    "    collected_models[devices_cols] = select_best_model(devices_dataset, devices_cols, hidden_states)"
   ]
  },
  {
   "cell_type": "code",
   "execution_count": 10,
   "metadata": {},
   "outputs": [],
   "source": [
    "dev_len = len(devices_names)\n",
    "results_mtrx = np.zeros((dev_len, dev_len))\n",
    "X_train, X_test = train_test(devices_dataset)\n",
    "for i, (model_name, model_info) in enumerate(collected_models.items()):\n",
    "    model = model_info[0]\n",
    "    for j, dn in enumerate(devices_names):\n",
    "        _, X_test_col = extract_column(X_train, X_test, dn)\n",
    "        model_prediction = model.score(X_test_col[[dn]])\n",
    "        results_mtrx[j, i] = model_prediction"
   ]
  },
  {
   "cell_type": "code",
   "execution_count": 11,
   "metadata": {},
   "outputs": [],
   "source": [
    "result_df = pd.DataFrame(results_mtrx)\n",
    "result_df.columns = devices_names"
   ]
  },
  {
   "cell_type": "code",
   "execution_count": 13,
   "metadata": {},
   "outputs": [
    {
     "data": {
      "image/png": "[encoded data removed]",
      "text/plain": [
       "<Figure size 576x504 with 2 Axes>"
      ]
     },
     "metadata": {
      "needs_background": "light"
     },
     "output_type": "display_data"
    }
   ],
   "source": [
    "fig, ax = plt.subplots(figsize=(8,7))\n",
    "sns.heatmap(result_df.clip(lower=-40000),\n",
    "            center=0,\n",
    "            cmap=\"YlGnBu\",\n",
    "            yticklabels=devices_names,\n",
    "            ax=ax)\n",
    "ax.set_title('Ability to detect correct time series')\n",
    "ax.set_xticklabels(ax.get_xticklabels(), rotation=30)\n",
    "ax.set_yticklabels(ax.get_yticklabels(), rotation=30)\n",
    "ax.set_xlabel('True labels')\n",
    "ax.set_ylabel('Scored labels');"
   ]
  }
 ],
 "metadata": {
  "kernelspec": {
   "display_name": "venv",
   "language": "python",
   "name": "venv"
  },
  "language_info": {
   "codemirror_mode": {
    "name": "ipython",
    "version": 3
   },
   "file_extension": ".py",
   "mimetype": "text/x-python",
   "name": "python",
   "nbconvert_exporter": "python",
   "pygments_lexer": "ipython3",
   "version": "3.5.2"
  }
 },
 "nbformat": 4,
 "nbformat_minor": 4
}
